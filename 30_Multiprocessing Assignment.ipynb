{
 "cells": [
  {
   "cell_type": "markdown",
   "id": "5ddc6d15-eb34-404b-80ca-b1bc2e6b1d6b",
   "metadata": {},
   "source": [
    "#### Q1. What is multiprocessing in python? Why is it useful?"
   ]
  },
  {
   "cell_type": "code",
   "execution_count": null,
   "id": "767c09ee-586c-465d-ad08-7c38724a2229",
   "metadata": {},
   "outputs": [],
   "source": [
    "'''\n",
    "Multiprocessing in Python refers to a technique or module that allows you to run multiple processes concurrently,\n",
    "taking advantage of multiple CPU cores in a multicore machine. In other words, it enables you to execute multiple\n",
    "tasks or computations simultaneously, which can lead to improved performance and faster execution times compared \n",
    "to running tasks sequentially.\n",
    "\n",
    "Python's multiprocessing module provides a way to create and manage multiple processes in a Python program.\n",
    "Each process has its own memory space and runs independently, allowing for parallel execution of tasks. \n",
    "This is especially beneficial when dealing with CPU-bound tasks, where the program spends a significant amount \n",
    "of time performing computations and doesn't have to wait for external resources like I/O operations.\n",
    "\n",
    "To use the multiprocessing module, you typically create a Process object for each task you want to run in parallel.\n",
    "You can also use constructs like Pool to manage a pool of worker processes. Additionally, the Queue class from \n",
    "the multiprocessing module helps in inter-process communication by allowing data to be safely passed between processes.\n",
    "\n",
    "However, it's important to note that using multiprocessing introduces complexities related to inter-process communication, \n",
    "shared resources, and synchronization. Careful consideration should be given to these aspects to avoid issues like deadlocks\n",
    "and race conditions.\n",
    "'''"
   ]
  },
  {
   "cell_type": "markdown",
   "id": "9b83575f-d6b9-40a5-b6e9-03528d1d079c",
   "metadata": {},
   "source": [
    "#### Q2. What are the differences between multiprocessing and multithreading?"
   ]
  },
  {
   "cell_type": "code",
   "execution_count": null,
   "id": "4095167c-d2ea-4776-9f87-c70adca8c160",
   "metadata": {},
   "outputs": [],
   "source": [
    "'''\n",
    "1.Processes vs. Threads:\n",
    "\n",
    "-Multiprocessing: In multiprocessing, multiple processes are created, each with its own memory space and resources.\n",
    "Processes are independent and separate from each other, running in their own memory and having their own copies of variables.\n",
    "They can run on different CPU cores simultaneously, achieving true parallelism. Processes are created using the multiprocessing module.\n",
    "\n",
    "-Multithreading: In multithreading, multiple threads are created within a single process. \n",
    "Threads share the same memory space and resources as the parent process.\n",
    "They run concurrently within the same process and can communicate more easily through shared memory. \n",
    "However, due to Python's GIL, threads do not achieve true parallelism, as only one thread can execute Python bytecode at a time.\n",
    "\n",
    "\n",
    "\n",
    "2.Concurrency and Parallelism:\n",
    "\n",
    "-Multiprocessing: Multiprocessing allows for true parallel execution since each process runs independently on its own CPU core. \n",
    "This is suitable for CPU-bound tasks that involve heavy computation.\n",
    "\n",
    "-Multithreading: While multithreading enables concurrent execution, it does not achieve true parallelism in Python due to the GIL. \n",
    "The GIL allows only one thread to execute Python bytecode at a time, which limits the potential performance gains of multithreading. \n",
    "This makes multithreading more suitable for I/O-bound tasks where threads can spend time waiting for external resources.\n",
    "\n",
    "\n",
    "\n",
    "3.Communication and Synchronization:\n",
    "\n",
    "-Multiprocessing: Processes communicate through mechanisms like Queue and Pipe. Since processes have separate memory spaces, \n",
    "communication requires serialization and deserialization, which can be slower but offers better isolation.\n",
    "\n",
    "-Multithreading: Threads can communicate more easily through shared memory, making synchronization and data sharing simpler.\n",
    "However, this also introduces challenges like race conditions and the need for synchronization mechanisms like locks.\n",
    "\n",
    "\n",
    "\n",
    "4.GIL Impact:\n",
    "\n",
    "-Multiprocessing: Multiprocessing bypasses the GIL since each process has its own Python interpreter and memory space.\n",
    "This makes multiprocessing suitable for CPU-bound tasks where the GIL would otherwise limit the performance gains of multithreading.\n",
    "\n",
    "-Multithreading: Multithreading is subject to the GIL, which means that even though multiple threads are created, only one thread \n",
    "can execute Python bytecode at a time. This makes multithreading less effective for CPU-bound tasks that require significant computation.'''"
   ]
  },
  {
   "cell_type": "markdown",
   "id": "9ff714c3-f735-4cca-aa99-5762c537cdd6",
   "metadata": {},
   "source": [
    "#### Q3. Write a python code to create a process using the multiprocessing module."
   ]
  },
  {
   "cell_type": "code",
   "execution_count": 1,
   "id": "95eb6014-d087-4324-bd40-620313aa854f",
   "metadata": {},
   "outputs": [
    {
     "name": "stdout",
     "output_type": "stream",
     "text": [
      "this is my main prog\n",
      "this is my multiprocessing prog\n"
     ]
    }
   ],
   "source": [
    "import multiprocessing\n",
    "def test():\n",
    "    print(\"this is my multiprocessing prog\")\n",
    "\n",
    "if __name__ == '__main__':\n",
    "    m = multiprocessing.Process(target=test)\n",
    "    print(\"this is my main prog\")\n",
    "    m.start()\n",
    "    m.join()"
   ]
  },
  {
   "cell_type": "markdown",
   "id": "6c16da2f-0195-4606-806a-2b1f5bd1a30b",
   "metadata": {},
   "source": [
    "#### Q4. What is a multiprocessing pool in python? Why is it used?"
   ]
  },
  {
   "cell_type": "code",
   "execution_count": null,
   "id": "a8bbdda7-b1d2-47d3-b953-a31d55f92878",
   "metadata": {},
   "outputs": [],
   "source": [
    "'''\n",
    "A multiprocessing pool in Python, specifically provided by the multiprocessing module, is a convenient way \n",
    "to manage a group of worker processes that can execute tasks in parallel. It abstracts the process creation, management,\n",
    "and synchronization, allowing you to distribute tasks across a pool of processes to achieve parallelism and \n",
    "improve overall program performance.\n",
    "\n",
    "A pool in multiprocessing can be thought of as a group of worker processes that are ready to perform tasks concurrently. \n",
    "The primary class responsible for creating and managing a pool of worker processes is multiprocessing.Pool.\n",
    "\n",
    "\n",
    "uses:\n",
    "1)Task Distribution: You create a pool of worker processes, specifying the number of processes you want to use. \n",
    "You can think of this as creating a pool of workers who are ready to handle tasks.\n",
    "\n",
    "2)Task Submission: You submit tasks (functions) to the pool for execution. The pool automatically distributes \n",
    "the tasks among the worker processes. Each worker can execute one task at a time.\n",
    "\n",
    "3)Parallel Execution: The worker processes execute tasks in parallel, taking advantage of available CPU cores. \n",
    "This is particularly useful for tasks that are CPU-bound and require significant computation.\n",
    "\n",
    "4)Synchronization: The pool handles the synchronization and management of worker processes, abstracting away \n",
    "the complexities of process creation and coordination.\n",
    "\n",
    "5)Result Retrieval: The pool provides a way to retrieve results from the tasks that have been executed. \n",
    "When you submit a task to the pool, it returns a result object that you can use to retrieve the output once the task is completed.\n",
    "\n",
    "6)Resource Management: The pool manages the number of processes running concurrently. If you submit more tasks than \n",
    "the number of processes in the pool, the pool will queue up tasks until a worker becomes available.\n",
    "\n",
    "'''"
   ]
  },
  {
   "cell_type": "code",
   "execution_count": 2,
   "id": "0228a257-6d3e-4c5f-b56c-5c9056ea2fb6",
   "metadata": {},
   "outputs": [
    {
     "name": "stdout",
     "output_type": "stream",
     "text": [
      "[1, 4, 9, 16, 25, 36, 49, 64, 81]\n"
     ]
    }
   ],
   "source": [
    "def square(n):\n",
    "    return n**2\n",
    "\n",
    "if __name__ == '__main__':\n",
    "    with multiprocessing.Pool(processes=4) as pool : \n",
    "        out = pool.map(square , [1,2,3,4,5,6,7,8,9])\n",
    "        print(out)"
   ]
  },
  {
   "cell_type": "markdown",
   "id": "b6435b71-82c3-4bda-bf58-7fabc6c6933f",
   "metadata": {},
   "source": [
    "#### Q5. How can we create a pool of worker processes in python using the multiprocessing module?"
   ]
  },
  {
   "cell_type": "code",
   "execution_count": 3,
   "id": "8cbcbabb-3233-4ee7-b2ae-301d29fd6559",
   "metadata": {},
   "outputs": [
    {
     "name": "stdout",
     "output_type": "stream",
     "text": [
      "Results: [1, 4, 9, 16, 25]\n"
     ]
    }
   ],
   "source": [
    "import multiprocessing\n",
    "\n",
    "def worker_function(x):\n",
    "    return x * x\n",
    "\n",
    "if __name__ == \"__main__\":\n",
    "    # Create a pool of worker processes with a specified number of processes\n",
    "    with multiprocessing.Pool(processes=4) as pool:\n",
    "        # List of inputs to be processed by the worker function\n",
    "        inputs = [1, 2, 3, 4, 5]\n",
    "        \n",
    "        # Distribute the tasks to the worker processes using the map function\n",
    "        results = pool.map(worker_function, inputs)\n",
    "    \n",
    "    # The pool is automatically closed and worker processes are terminated after the 'with' block\n",
    "\n",
    "    print(\"Results:\", results)\n"
   ]
  },
  {
   "cell_type": "markdown",
   "id": "7cfe5ee4-a735-4990-a22a-42d6fff13247",
   "metadata": {},
   "source": [
    "#### Q6. Write a python program to create 4 processes, each process should print a different number using the\n",
    "#### multiprocessing module in python."
   ]
  },
  {
   "cell_type": "code",
   "execution_count": null,
   "id": "54d93b4c-1f80-4548-a2b9-1bf6992f43fc",
   "metadata": {},
   "outputs": [],
   "source": [
    "import multiprocessing\n",
    "\n",
    "def print_number(number):\n",
    "    print(f\"Process {number}: My number is {number}\")\n",
    "\n",
    "if __name__ == \"__main__\":\n",
    "    processes = []\n",
    "    \n",
    "    for i in range(1, 5):\n",
    "        process = multiprocessing.Process(target=print_number, args=(i,))\n",
    "        processes.append(process)\n",
    "        process.start()\n",
    "    \n",
    "    for process in processes:\n",
    "        process.join()\n",
    "    \n",
    "    print(\"All processes have completed.\")\n"
   ]
  }
 ],
 "metadata": {
  "kernelspec": {
   "display_name": "Python 3 (ipykernel)",
   "language": "python",
   "name": "python3"
  },
  "language_info": {
   "codemirror_mode": {
    "name": "ipython",
    "version": 3
   },
   "file_extension": ".py",
   "mimetype": "text/x-python",
   "name": "python",
   "nbconvert_exporter": "python",
   "pygments_lexer": "ipython3",
   "version": "3.10.8"
  }
 },
 "nbformat": 4,
 "nbformat_minor": 5
}
